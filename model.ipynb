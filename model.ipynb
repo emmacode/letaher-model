{
 "cells": [
  {
   "cell_type": "code",
   "execution_count": 21,
   "metadata": {},
   "outputs": [],
   "source": [
    "from ultralytics import YOLO"
   ]
  },
  {
   "cell_type": "code",
   "execution_count": 23,
   "metadata": {},
   "outputs": [
    {
     "name": "stdout",
     "output_type": "stream",
     "text": [
      "\n",
      "image 1/1 /Users/moyin/Documents/codebase/letaher-model/Pictures/test4.png: 640x640 1 DISPOSABLE CUP, 175.0ms\n",
      "Speed: 1.0ms preprocess, 175.0ms inference, 0.4ms postprocess per image at shape (1, 3, 640, 640)\n",
      "Results saved to \u001b[1mruns/detect/predict3\u001b[0m\n"
     ]
    }
   ],
   "source": [
    "model = YOLO(\"best (1).pt\")\n",
    "\n",
    "results = model.predict('./Pictures/test3.jpg', save=True)"
   ]
  },
  {
   "cell_type": "code",
   "execution_count": 24,
   "metadata": {},
   "outputs": [
    {
     "name": "stdout",
     "output_type": "stream",
     "text": [
      "{'DISPOSABLE CUP': 1}\n"
     ]
    }
   ],
   "source": [
    "class_list = [c for x1,y1,x2,y2,prob, c in(results[0].boxes.data).numpy()]\n",
    "\n",
    "class_dict = {}\n",
    "for c in class_list:\n",
    "    class_name = results[0].names[c]\n",
    "    if class_name in class_dict.keys():\n",
    "        class_dict[class_name] += 1\n",
    "    else:\n",
    "        class_dict[class_name] = 1\n",
    "\n",
    "print(class_dict)"
   ]
  },
  {
   "cell_type": "code",
   "execution_count": 25,
   "metadata": {},
   "outputs": [],
   "source": [
    "import json\n",
    "\n",
    "# Convert dictionary to JSON and save to a file\n",
    "with open('output.json', \"w\") as json_file:\n",
    "    json.dump(class_dict, json_file, indent=4)\n"
   ]
  }
 ],
 "metadata": {
  "kernelspec": {
   "display_name": "Python 3",
   "language": "python",
   "name": "python3"
  },
  "language_info": {
   "codemirror_mode": {
    "name": "ipython",
    "version": 3
   },
   "file_extension": ".py",
   "mimetype": "text/x-python",
   "name": "python",
   "nbconvert_exporter": "python",
   "pygments_lexer": "ipython3",
   "version": "3.12.4"
  }
 },
 "nbformat": 4,
 "nbformat_minor": 2
}
