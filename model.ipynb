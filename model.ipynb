{
 "cells": [
  {
   "cell_type": "code",
   "execution_count": 17,
   "metadata": {},
   "outputs": [],
   "source": [
    "from ultralytics import YOLO"
   ]
  },
  {
   "cell_type": "code",
   "execution_count": 18,
   "metadata": {},
   "outputs": [
    {
     "name": "stdout",
     "output_type": "stream",
     "text": [
      "\n",
      "image 1/1 /Users/moyin/Documents/codebase/letaher-model/Pictures/test3.jpg: 480x640 1 PAPER, 1 TISSUE, 127.7ms\n",
      "Speed: 0.9ms preprocess, 127.7ms inference, 0.5ms postprocess per image at shape (1, 3, 480, 640)\n",
      "Results saved to \u001b[1mruns/detect/predict3\u001b[0m\n"
     ]
    }
   ],
   "source": [
    "model = YOLO(\"best (1).pt\")\n",
    "\n",
    "results = model.predict('./Pictures/test3.jpg', save=True)"
   ]
  },
  {
   "cell_type": "code",
   "execution_count": 19,
   "metadata": {},
   "outputs": [
    {
     "name": "stdout",
     "output_type": "stream",
     "text": [
      "{'TISSUE': 1, 'PAPER': 1}\n"
     ]
    }
   ],
   "source": [
    "class_list = [c for x1,y1,x2,y2,prob, c in(results[0].boxes.data).numpy()]\n",
    "\n",
    "class_dict = {}\n",
    "for c in class_list:\n",
    "    class_name = results[0].names[c]\n",
    "    if class_name in class_dict.keys():\n",
    "        class_dict[class_name] += 1\n",
    "    else:\n",
    "        class_dict[class_name] = 1\n",
    "\n",
    "print(class_dict)"
   ]
  },
  {
   "cell_type": "code",
   "execution_count": 20,
   "metadata": {},
   "outputs": [],
   "source": [
    "import json\n",
    "\n",
    "# Convert dictionary to JSON and save to a file\n",
    "with open('output.json', \"w\") as json_file:\n",
    "    json.dump(class_dict, json_file, indent=4)\n"
   ]
  }
 ],
 "metadata": {
  "kernelspec": {
   "display_name": "Python 3",
   "language": "python",
   "name": "python3"
  },
  "language_info": {
   "codemirror_mode": {
    "name": "ipython",
    "version": 3
   },
   "file_extension": ".py",
   "mimetype": "text/x-python",
   "name": "python",
   "nbconvert_exporter": "python",
   "pygments_lexer": "ipython3",
   "version": "3.12.4"
  }
 },
 "nbformat": 4,
 "nbformat_minor": 2
}
